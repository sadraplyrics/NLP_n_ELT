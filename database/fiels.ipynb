{
 "cells": [
  {
   "cell_type": "code",
   "execution_count": 11,
   "metadata": {},
   "outputs": [],
   "source": [
    "import pandas as pd"
   ]
  },
  {
   "cell_type": "code",
   "execution_count": 12,
   "metadata": {},
   "outputs": [],
   "source": [
    "df = pd.read_csv(\"words_cut.csv\")"
   ]
  },
  {
   "cell_type": "code",
   "execution_count": 13,
   "metadata": {},
   "outputs": [
    {
     "data": {
      "text/html": [
       "<div>\n",
       "<style scoped>\n",
       "    .dataframe tbody tr th:only-of-type {\n",
       "        vertical-align: middle;\n",
       "    }\n",
       "\n",
       "    .dataframe tbody tr th {\n",
       "        vertical-align: top;\n",
       "    }\n",
       "\n",
       "    .dataframe thead th {\n",
       "        text-align: right;\n",
       "    }\n",
       "</style>\n",
       "<table border=\"1\" class=\"dataframe\">\n",
       "  <thead>\n",
       "    <tr style=\"text-align: right;\">\n",
       "      <th></th>\n",
       "      <th>Unnamed: 0</th>\n",
       "      <th>word</th>\n",
       "      <th>meaning</th>\n",
       "      <th>example_1</th>\n",
       "      <th>example_2</th>\n",
       "      <th>example_3</th>\n",
       "    </tr>\n",
       "  </thead>\n",
       "  <tbody>\n",
       "    <tr>\n",
       "      <th>0</th>\n",
       "      <td>0</td>\n",
       "      <td>A bed of roses</td>\n",
       "      <td>a phrase used to reference a situation that is...</td>\n",
       "      <td>The poor orphan’s life hasn’t been a bed of ro...</td>\n",
       "      <td>The stressed business owner quickly realized t...</td>\n",
       "      <td>NaN</td>\n",
       "    </tr>\n",
       "    <tr>\n",
       "      <th>1</th>\n",
       "      <td>1</td>\n",
       "      <td>A Priori</td>\n",
       "      <td>something that is believed to be true without ...</td>\n",
       "      <td>Religious people have the a priori belief that...</td>\n",
       "      <td>Christopher Columbus had the a priori belief t...</td>\n",
       "      <td>People make a priori assumptions that the sun ...</td>\n",
       "    </tr>\n",
       "    <tr>\n",
       "      <th>2</th>\n",
       "      <td>2</td>\n",
       "      <td>Aardvark</td>\n",
       "      <td>a large, long-eared nocturnal animal that uses...</td>\n",
       "      <td>The long-eared aardvark slept all day and ate ...</td>\n",
       "      <td>Living a solitary nightlife, the African aardv...</td>\n",
       "      <td>The aardvark is a snouty mammal that dines hea...</td>\n",
       "    </tr>\n",
       "    <tr>\n",
       "      <th>3</th>\n",
       "      <td>3</td>\n",
       "      <td>Aback</td>\n",
       "      <td>in amazement; shocked</td>\n",
       "      <td>I was taken aback by the server’s rude comment...</td>\n",
       "      <td>Ken believed he had a great marriage so he was...</td>\n",
       "      <td>At seventy years of age, Wanda was taken aback...</td>\n",
       "    </tr>\n",
       "    <tr>\n",
       "      <th>4</th>\n",
       "      <td>4</td>\n",
       "      <td>Abaft</td>\n",
       "      <td>toward the stern; behind</td>\n",
       "      <td>The wind was abaft which made the ship glide f...</td>\n",
       "      <td>My first sailing lesson was learning that abaf...</td>\n",
       "      <td>The sea spray was coming from abaft, making my...</td>\n",
       "    </tr>\n",
       "  </tbody>\n",
       "</table>\n",
       "</div>"
      ],
      "text/plain": [
       "   Unnamed: 0            word  \\\n",
       "0           0  A bed of roses   \n",
       "1           1        A Priori   \n",
       "2           2        Aardvark   \n",
       "3           3          Aback    \n",
       "4           4           Abaft   \n",
       "\n",
       "                                             meaning  \\\n",
       "0  a phrase used to reference a situation that is...   \n",
       "1  something that is believed to be true without ...   \n",
       "2  a large, long-eared nocturnal animal that uses...   \n",
       "3                              in amazement; shocked   \n",
       "4                           toward the stern; behind   \n",
       "\n",
       "                                           example_1  \\\n",
       "0  The poor orphan’s life hasn’t been a bed of ro...   \n",
       "1  Religious people have the a priori belief that...   \n",
       "2  The long-eared aardvark slept all day and ate ...   \n",
       "3  I was taken aback by the server’s rude comment...   \n",
       "4  The wind was abaft which made the ship glide f...   \n",
       "\n",
       "                                           example_2  \\\n",
       "0  The stressed business owner quickly realized t...   \n",
       "1  Christopher Columbus had the a priori belief t...   \n",
       "2  Living a solitary nightlife, the African aardv...   \n",
       "3  Ken believed he had a great marriage so he was...   \n",
       "4  My first sailing lesson was learning that abaf...   \n",
       "\n",
       "                                           example_3  \n",
       "0                                                NaN  \n",
       "1  People make a priori assumptions that the sun ...  \n",
       "2  The aardvark is a snouty mammal that dines hea...  \n",
       "3  At seventy years of age, Wanda was taken aback...  \n",
       "4  The sea spray was coming from abaft, making my...  "
      ]
     },
     "execution_count": 13,
     "metadata": {},
     "output_type": "execute_result"
    }
   ],
   "source": [
    "df.head()"
   ]
  },
  {
   "cell_type": "code",
   "execution_count": 15,
   "metadata": {},
   "outputs": [],
   "source": [
    "df = df.rename(columns={\"Unnamed: 0\": \"id\"})"
   ]
  },
  {
   "cell_type": "code",
   "execution_count": 17,
   "metadata": {},
   "outputs": [],
   "source": [
    "df.to_csv(\"words_cut.csv\")"
   ]
  },
  {
   "cell_type": "code",
   "execution_count": null,
   "metadata": {},
   "outputs": [],
   "source": []
  }
 ],
 "metadata": {
  "kernelspec": {
   "display_name": "nlp_uni",
   "language": "python",
   "name": "python3"
  },
  "language_info": {
   "codemirror_mode": {
    "name": "ipython",
    "version": 3
   },
   "file_extension": ".py",
   "mimetype": "text/x-python",
   "name": "python",
   "nbconvert_exporter": "python",
   "pygments_lexer": "ipython3",
   "version": "3.10.6"
  },
  "orig_nbformat": 4
 },
 "nbformat": 4,
 "nbformat_minor": 2
}
